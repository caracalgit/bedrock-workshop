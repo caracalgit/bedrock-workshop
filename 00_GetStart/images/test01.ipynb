# Setup for Amazon Bedrock
* Container: `conda_python3` <BR>
* We recommend `python 3.10` or later. 
    - version check: !python -V
